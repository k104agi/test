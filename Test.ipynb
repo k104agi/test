{
 "cells": [
  {
   "cell_type": "code",
   "execution_count": 64,
   "metadata": {},
   "outputs": [],
   "source": [
    "# Stop out test"
   ]
  },
  {
   "cell_type": "code",
   "execution_count": 65,
   "metadata": {},
   "outputs": [
    {
     "name": "stdout",
     "output_type": "stream",
     "text": [
      "- 민아\n",
      "- 혜리\n",
      "- 유라\n",
      "- 소진\n"
     ]
    }
   ],
   "source": [
    "### 1. 다음 리스트를 사용해 아래와 같은 문자열을 만들어 `girlsday_info`변수에 할당한 후, 콘솔에 내용을 출력하시오. [5점]\n",
    "\n",
    "girlsday_members = ['민아', '혜리', '유라', '소진']\n",
    "\n",
    "for members in girlsday_members:\n",
    "    print(f'- {members}')"
   ]
  },
  {
   "cell_type": "code",
   "execution_count": 101,
   "metadata": {
    "scrolled": true
   },
   "outputs": [
    {
     "name": "stdout",
     "output_type": "stream",
     "text": [
      "[{'red': 'apple', 'yellow': 'banana', 'green': 'melon'}]\n"
     ]
    }
   ],
   "source": [
    "### 2. `fruit_dict`객체를 사용해서 아래와 같은 결과값을 갖는 문자열을 만들어 `fruit_info`변수에 할당 한 후, 콘솔에 내용을 출력하시오. [10점]\n",
    "\n",
    "'''\n",
    "- index 미출력시: -2\n",
    "- 키의 대문자화 미구현시: -2\n",
    "- 값의 첫 번째 글자 대문자화 미구현시: -2\n",
    "\n",
    "결과 문자열\n",
    "\n",
    "[0] RED: Apple\n",
    "[1] YELLOW: Banana\n",
    "[2] GREEN: Melon\n",
    "\n",
    "어렵다면 아래 형태를 만든다\n",
    "\n",
    "red: apple\n",
    "yellow: banana\n",
    "green: melon\n",
    "'''\n",
    "\n",
    "\n",
    "fruit_dict = {\n",
    "    'red': 'apple',\n",
    "    'yellow': 'banana',\n",
    "    'green': 'melon',\n",
    "}\n",
    "\n",
    "# fruit_dict.items()\n",
    "\n",
    "# print(str(fruit_dict.items()))\n",
    "\n",
    "# print(fruit_dict)\n",
    "\n",
    "# for item in fruit_dict.items():\n",
    "#     print(item)\n",
    "\n",
    "# list(zip(fruit_dict.items()))\n",
    "\n",
    "a = [fruit_dict]\n",
    "print(a)\n",
    "\n",
    "# set(fruit_dict)"
   ]
  },
  {
   "cell_type": "code",
   "execution_count": 107,
   "metadata": {
    "scrolled": true
   },
   "outputs": [
    {
     "name": "stdout",
     "output_type": "stream",
     "text": [
      "copy를 쓰는 경우\n",
      "바꾸기 전 c는 ['melon']\n",
      "바꾸기 전 d는 ['melon']\n",
      "바꾼 후 c는 ['rotten melon']\n",
      "바꾼 후 d는 ['melon']\n",
      "copy를 쓰지 않는 경우\n",
      "바꾸기 전 a는 ['apple']\n",
      "바꾸기 전 b는 ['apple']\n",
      "바꾼 후 a는 ['rotten apple']\n",
      "바꾼 후 b는 ['apple']\n"
     ]
    }
   ],
   "source": [
    "### 3. list의 `copy()`메서드가 하는 일과, `copy()`를 사용하지 않았을 때 발생할 수 있는 오류에 대한 예제 코드를 작성하시오. [10점]\n",
    "'''\n",
    "a=b는 복사가 아닌 참조다. a와 b는 같은 영역을 바라보고 있다.\n",
    "python에서 list를 다른 변수에 할당하게 되면, \n",
    "참조형태로 전달되기 때문에 실제로 같은 물리공간에 위치한 데이터를 가리킨다.\n",
    "따라서 a 값을 변경하면 b의 값도 변경된다.\n",
    "b 값을 변경하면 a의 값도 변경된다.\n",
    "\n",
    "파이썬에서 copy() 메서드는 위처럼 기존 값을 참조하는 형태가 아니라,\n",
    "명령입력 당시의 값을 복사한다.\n",
    "\n",
    "얕은 복사는 상위리스트의 값만 복사하고, 하위리스트는 참조형태로 할당한다.\n",
    "깊은 복사는 상위리스트와 하위리스트 모두 값을 복사하는 형태로 가져온다.\n",
    "'''\n",
    "\n",
    "import copy\n",
    "print('copy를 쓰는 경우')\n",
    "c = ['melon']\n",
    "d = copy.copy(c)\n",
    "print(f'바꾸기 전 c는 {c}')\n",
    "print(f'바꾸기 전 d는 {d}')\n",
    "c = ['rotten melon']\n",
    "print(f'바꾼 후 c는 {c}')\n",
    "print(f'바꾼 후 d는 {d}')\n",
    "#c를 변경한 후에도 d는 'melon'임\n",
    "\n",
    "#copy를 쓰지 않을 경우\n",
    "print('copy를 쓰지 않는 경우')\n",
    "a = ['apple']\n",
    "b = a\n",
    "print(f'바꾸기 전 a는 {a}')\n",
    "print(f'바꾸기 전 b는 {b}')\n",
    "a = ['rotten apple']\n",
    "print(f'바꾼 후 a는 {a}')\n",
    "print(f'바꾼 후 b는 {b}')"
   ]
  },
  {
   "cell_type": "code",
   "execution_count": 79,
   "metadata": {},
   "outputs": [
    {
     "name": "stdout",
     "output_type": "stream",
     "text": [
      "3\n",
      "7\n",
      "11\n",
      "15\n",
      "19\n",
      "23\n",
      "27\n"
     ]
    }
   ],
   "source": [
    "### 4. 1에서 30까지의 숫자 중, 3부터 시작해서 4번째마다의 숫자를 가지는 리스트를 생성하시오. [5점]\n",
    "\n",
    "for x in range(3, 30, 4):\n",
    "    print(x)"
   ]
  },
  {
   "cell_type": "code",
   "execution_count": null,
   "metadata": {},
   "outputs": [],
   "source": [
    "### 5. dict형 객체인 `obj`가 있다고 할 때, `obj['key']`와 `obj.get('key')`의 차이를 서술하시오. [5점]"
   ]
  },
  {
   "cell_type": "code",
   "execution_count": null,
   "metadata": {},
   "outputs": [],
   "source": [
    "### 6. 튜플 언패킹에 대해 서술하고, `pokemon_info` 객체를 순회할 때 튜플 언패킹을 사용하는 예제 코드를 작성하시오. [10점]\n",
    "\n",
    "- 틀린서술: -3\n",
    "- 예제코드 미작성: -7"
   ]
  },
  {
   "cell_type": "code",
   "execution_count": null,
   "metadata": {},
   "outputs": [],
   "source": [
    "### 7. 함수에서 위치인자와 키워드인자의 차이점에 대해 서술하시오. [5점]"
   ]
  },
  {
   "cell_type": "code",
   "execution_count": null,
   "metadata": {},
   "outputs": [],
   "source": [
    "### 8. 클래스와 인스턴스의 다음 사항들에 대해 서술하시오.\n",
    "- 클래스와 인스턴스의 차이점 [2점]\n",
    "- 클래스의 생성자 함수 이름 [1점]\n",
    "- 클래스의 생성자 함수가 호출되는 시점은? [2점]\n",
    "- 인스턴스 메서드의 `self`매개변수의 의미 [4점]"
   ]
  },
  {
   "cell_type": "code",
   "execution_count": null,
   "metadata": {},
   "outputs": [],
   "source": [
    "### 9. `property`를 정의하는 방법에 대해 서술하시오. [5점]\n",
    "\n",
    "- `getter`를 만드는 방법에 대해 서술: 2점\n",
    "- `setter`를 만드는 방법에 대해 서술: 3점\n",
    "    \n",
    "'''\n",
    "1) 클래스를 생성한다.\n",
    "\n",
    "2) 클래스에 속한 함수 위에 @property를 붙여 getter를 만든다.\n",
    "\n",
    "3) setter는 해당 함수 위에 @함수명.setter를 붙여 만든다.\n",
    "'''\n",
    "\n",
    "#예시\n",
    "class ColorMaking:\n",
    "\n",
    "    def __init__(self):\n",
    "        self.__color = \"black\"\n",
    "\n",
    "    @property\n",
    "    def color(self):\n",
    "        return self.__color\n",
    "\n",
    "    @color.setter\n",
    "    def color(self, color):\n",
    "        self.__color = color"
   ]
  },
  {
   "cell_type": "code",
   "execution_count": null,
   "metadata": {},
   "outputs": [],
   "source": [
    "### 10. 아래와 같은 `User`클래스가 있다. 이 클래스를 상속받은 `Student`클래스를 정의하고, 초기화 메서드에서 `name`과 함께`age`라는 매개변수를 추가로 사용해 인스턴스의 `age`속성을 추가로 정의하도록 한다. [10점]\n",
    "\n",
    "- (기본구현) User클래스를 상속: 1\n",
    "- 초기화 메서드 재정의: +3\n",
    "- 초기화 메서드에서 `super`사용: +6\n",
    "\n",
    "```\n",
    "class User:\n",
    "    def __init__(self, name):\n",
    "        self.name = name"
   ]
  },
  {
   "cell_type": "code",
   "execution_count": 108,
   "metadata": {},
   "outputs": [
    {
     "name": "stdout",
     "output_type": "stream",
     "text": [
      "top[#2] 격전을 준비하세요! (수정)\n",
      "top격전 참여시 불건전 행위에 대한 주의사항 안내(수정)\n",
      "대리 게임 등 적발 현황 263차 안내\n",
      "부정행위 프로그램 제재 현황 안내\n",
      "6월 2차 소환사 문화재지킴이 모집 안내\n",
      "일부 클라이언트 오류 현상에 대한 안내 (정상화)\n",
      "6월 6일(수) 서버 점검 안내 (완료)\n",
      "PBE 인사이드 20화(8.12 패치 편) 방송 안내\n",
      "다시 돌아온 격전! 얼불져스 6/5(화) 방송 일정 안내\n",
      "1일 격전 테스트에 참여해 주세요\n",
      "대리 게임 등 적발 현황 262차 안내\n",
      "부정행위 프로그램 제재 현황 안내\n"
     ]
    }
   ],
   "source": [
    "### 11. `url`주소로부터 아래 결과를 출력한다. [10점]\n",
    "\n",
    "import os\n",
    "import requests\n",
    "from bs4 import BeautifulSoup\n",
    "\n",
    "file_path = './lol_list.html'\n",
    "url_list = 'http://www.leagueoflegends.co.kr/?m=news&cate=notice'\n",
    "params = {\n",
    "    'm': 'news',\n",
    "}\n",
    "\n",
    "if os.path.exists(file_path):\n",
    "    html = open(file_path, 'rt').read()\n",
    "else:\n",
    "    response = requests.get(url_list, params)\n",
    "    html = response.text\n",
    "    open(file_path, 'wt').write(html)\n",
    "\n",
    "soup = BeautifulSoup(html, 'lxml')\n",
    "all_title = soup.select('.contents-table .request-list td a')\n",
    "for title in all_title:\n",
    "    print(title.text)\n",
    "\n"
   ]
  },
  {
   "cell_type": "code",
   "execution_count": null,
   "metadata": {},
   "outputs": [],
   "source": [
    "### 12. `url`주소에 있는 공지사항에 해당하는 `Notice`클래스를 만들고, 크롤링시 공지사항 하나마다 `Notice`클래스 인스턴스를 만들어 `notice_list`리스트에 추가한다. [10점]\n",
    "\n",
    "`notice_list`를 출력한 결과\n",
    "\n",
    "```\n",
    "for notice in notice_list:\n",
    "\tprint(notice.title)\n",
    "\tprint(notice.date)\n",
    "\tprint(notice.view)\n",
    "\tprint()\n",
    "```\n",
    "\n",
    "결과\n",
    "\n",
    "```\n",
    "top[#2] 격전을 준비하세요! (수정)\n",
    "2018-05-18\n",
    "17,698\n",
    "\n",
    "top격전 참여시 불건전 행위에 대한 주의사항 안내(수정)\n",
    "2018-04-26\n",
    "34,097\n",
    "\n",
    "일부 클라이언트 오류 현상에 대한 안내\n",
    "2018-06-06\n",
    "4,928\n",
    "\n",
    "6월 6일(수) 서버 점검 안내 (완료)\n",
    "2018-06-05\n",
    "38,061\n",
    "\n",
    "PBE 인사이드 20화(8.12 패치 편) 방송 안내\n",
    "2018-06-04\n",
    "7,819\n",
    "\n",
    "다시 돌아온 격전! 얼불져스 6/5(화) 방송 일정 안내\n",
    "2018-06-03\n",
    "13,906\n",
    "...\n",
    "...\n",
    "...\n",
    "```"
   ]
  },
  {
   "cell_type": "code",
   "execution_count": null,
   "metadata": {},
   "outputs": [],
   "source": [
    "### 13. runserver가 localhost:8000에서 입력을 받는 상태로 동작 중일 때, 브라우저에서 `http://localhost:8000/abc/`URL을 입력하면 어떤 절차를 거쳐 사용자에게 다시 화면을 보여주는지 서술하시오. [10점]\n",
    "\n",
    "'''\n",
    "웹서버에 요청이 오면 장고로 전달된다.\n",
    "장고 URL resolver는 웹페이지 주소를 가져와 무엇을 할지 확인한다.\n",
    "패턴 모록을 가져와 URL과 맞는지 대조하고 식별한다.\n",
    "이때 장고가 해당 주소로 시작하는 모든 URL을 다 쓸 수 없어 정규표현식을 사용한다.\n",
    "일치하는 패턴이 있으면 장고는 해당 요청을 관련 함수(view)에게 넘긴다.\n",
    "\n",
    "뷰는 모델에서 필요한 정보를 받아와 템플릿에 전달한다.\n",
    "즉 뷰는 전달하는 함수 역할을 한다.\n",
    "def post_list(request):\n",
    "    return render(request, 'blog/post_list.html', {})\n",
    "예를 들어 이런 view 함수가 있다면 이 함수는 요청을 넘겨받아 render메서드를 호출한다.\n",
    "호출해서 받은(return) blog/post_list.html 템플릿을 보여주는 것이다.\n",
    "'''"
   ]
  },
  {
   "cell_type": "code",
   "execution_count": null,
   "metadata": {},
   "outputs": [],
   "source": [
    "### 14. 장고의 모델 클래스를 사용해서 학교와 학생을 나타내는 클래스를 설계(app명은 `education`을 사용한다)하고 간단한 학교/학생 목록 출력 페이지를 만든다. [50점]"
   ]
  }
 ],
 "metadata": {
  "kernelspec": {
   "display_name": "Python 3",
   "language": "python",
   "name": "python3"
  },
  "language_info": {
   "codemirror_mode": {
    "name": "ipython",
    "version": 3
   },
   "file_extension": ".py",
   "mimetype": "text/x-python",
   "name": "python",
   "nbconvert_exporter": "python",
   "pygments_lexer": "ipython3",
   "version": "3.6.5"
  }
 },
 "nbformat": 4,
 "nbformat_minor": 2
}
